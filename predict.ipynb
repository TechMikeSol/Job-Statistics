{
 "cells": [
  {
   "cell_type": "code",
   "execution_count": 34,
   "metadata": {},
   "outputs": [
    {
     "data": {
      "text/html": [
       "<style>#sk-container-id-5 {color: black;background-color: white;}#sk-container-id-5 pre{padding: 0;}#sk-container-id-5 div.sk-toggleable {background-color: white;}#sk-container-id-5 label.sk-toggleable__label {cursor: pointer;display: block;width: 100%;margin-bottom: 0;padding: 0.3em;box-sizing: border-box;text-align: center;}#sk-container-id-5 label.sk-toggleable__label-arrow:before {content: \"▸\";float: left;margin-right: 0.25em;color: #696969;}#sk-container-id-5 label.sk-toggleable__label-arrow:hover:before {color: black;}#sk-container-id-5 div.sk-estimator:hover label.sk-toggleable__label-arrow:before {color: black;}#sk-container-id-5 div.sk-toggleable__content {max-height: 0;max-width: 0;overflow: hidden;text-align: left;background-color: #f0f8ff;}#sk-container-id-5 div.sk-toggleable__content pre {margin: 0.2em;color: black;border-radius: 0.25em;background-color: #f0f8ff;}#sk-container-id-5 input.sk-toggleable__control:checked~div.sk-toggleable__content {max-height: 200px;max-width: 100%;overflow: auto;}#sk-container-id-5 input.sk-toggleable__control:checked~label.sk-toggleable__label-arrow:before {content: \"▾\";}#sk-container-id-5 div.sk-estimator input.sk-toggleable__control:checked~label.sk-toggleable__label {background-color: #d4ebff;}#sk-container-id-5 div.sk-label input.sk-toggleable__control:checked~label.sk-toggleable__label {background-color: #d4ebff;}#sk-container-id-5 input.sk-hidden--visually {border: 0;clip: rect(1px 1px 1px 1px);clip: rect(1px, 1px, 1px, 1px);height: 1px;margin: -1px;overflow: hidden;padding: 0;position: absolute;width: 1px;}#sk-container-id-5 div.sk-estimator {font-family: monospace;background-color: #f0f8ff;border: 1px dotted black;border-radius: 0.25em;box-sizing: border-box;margin-bottom: 0.5em;}#sk-container-id-5 div.sk-estimator:hover {background-color: #d4ebff;}#sk-container-id-5 div.sk-parallel-item::after {content: \"\";width: 100%;border-bottom: 1px solid gray;flex-grow: 1;}#sk-container-id-5 div.sk-label:hover label.sk-toggleable__label {background-color: #d4ebff;}#sk-container-id-5 div.sk-serial::before {content: \"\";position: absolute;border-left: 1px solid gray;box-sizing: border-box;top: 0;bottom: 0;left: 50%;z-index: 0;}#sk-container-id-5 div.sk-serial {display: flex;flex-direction: column;align-items: center;background-color: white;padding-right: 0.2em;padding-left: 0.2em;position: relative;}#sk-container-id-5 div.sk-item {position: relative;z-index: 1;}#sk-container-id-5 div.sk-parallel {display: flex;align-items: stretch;justify-content: center;background-color: white;position: relative;}#sk-container-id-5 div.sk-item::before, #sk-container-id-5 div.sk-parallel-item::before {content: \"\";position: absolute;border-left: 1px solid gray;box-sizing: border-box;top: 0;bottom: 0;left: 50%;z-index: -1;}#sk-container-id-5 div.sk-parallel-item {display: flex;flex-direction: column;z-index: 1;position: relative;background-color: white;}#sk-container-id-5 div.sk-parallel-item:first-child::after {align-self: flex-end;width: 50%;}#sk-container-id-5 div.sk-parallel-item:last-child::after {align-self: flex-start;width: 50%;}#sk-container-id-5 div.sk-parallel-item:only-child::after {width: 0;}#sk-container-id-5 div.sk-dashed-wrapped {border: 1px dashed gray;margin: 0 0.4em 0.5em 0.4em;box-sizing: border-box;padding-bottom: 0.4em;background-color: white;}#sk-container-id-5 div.sk-label label {font-family: monospace;font-weight: bold;display: inline-block;line-height: 1.2em;}#sk-container-id-5 div.sk-label-container {text-align: center;}#sk-container-id-5 div.sk-container {/* jupyter's `normalize.less` sets `[hidden] { display: none; }` but bootstrap.min.css set `[hidden] { display: none !important; }` so we also need the `!important` here to be able to override the default hidden behavior on the sphinx rendered scikit-learn.org. See: https://github.com/scikit-learn/scikit-learn/issues/21755 */display: inline-block !important;position: relative;}#sk-container-id-5 div.sk-text-repr-fallback {display: none;}</style><div id=\"sk-container-id-5\" class=\"sk-top-container\"><div class=\"sk-text-repr-fallback\"><pre>LinearRegression()</pre><b>In a Jupyter environment, please rerun this cell to show the HTML representation or trust the notebook. <br />On GitHub, the HTML representation is unable to render, please try loading this page with nbviewer.org.</b></div><div class=\"sk-container\" hidden><div class=\"sk-item\"><div class=\"sk-estimator sk-toggleable\"><input class=\"sk-toggleable__control sk-hidden--visually\" id=\"sk-estimator-id-5\" type=\"checkbox\" checked><label for=\"sk-estimator-id-5\" class=\"sk-toggleable__label sk-toggleable__label-arrow\">LinearRegression</label><div class=\"sk-toggleable__content\"><pre>LinearRegression()</pre></div></div></div></div></div>"
      ],
      "text/plain": [
       "LinearRegression()"
      ]
     },
     "execution_count": 34,
     "metadata": {},
     "output_type": "execute_result"
    }
   ],
   "source": [
    "from sklearn.linear_model import LinearRegression\n",
    "import pandas as pd\n",
    "import seaborn as sns\n",
    "\n",
    "encoded_df = pd.read_csv('data/encoded_df.csv')\n",
    "\n",
    "# Create the model\n",
    "\n",
    "lin = LinearRegression()\n",
    "\n",
    "train = encoded_df.loc[:,'airflow':'word']\n",
    "lin.fit(train, encoded_df['salary_standardized'])"
   ]
  },
  {
   "cell_type": "code",
   "execution_count": 35,
   "metadata": {},
   "outputs": [
    {
     "name": "stdout",
     "output_type": "stream",
     "text": [
      "airflow: 7013.1332895065\n",
      "alteryx: -782.5448134001\n",
      "apl: -7.277296610311734e+16\n",
      "asp.net: -16807.0722097638\n",
      "assembly: 2.955814018095328e+17\n",
      "atlassian: -3430.2898873437\n",
      "aurora: 10098.9620884991\n",
      "aws: 3977.7919901833\n",
      "azure: 1733.4185027591\n",
      "bash: 27774.6746068708\n",
      "bigquery: -13614.6976260074\n",
      "bitbucket: 43521.2435395238\n",
      "c: 17567.8975441877\n",
      "c++: 12875.8330959166\n",
      "c/c++: 6109533067500703.0\n",
      "cobol: -1599745052132998.8\n",
      "cognos: 6327.3469594603\n",
      "crystal: -33764.1721902593\n",
      "css: 19596.1460990376\n",
      "dart: -6399779686640385.0\n",
      "dax: -6755.1985769004\n",
      "docker: 11000.8383841487\n",
      "dplyr: 1078505056045300.9\n",
      "excel: -12382.7544099151\n",
      "fortran: 1.7632702545216172e+16\n",
      "gcp: -7818.7525118143\n",
      "gdpr: 30237.1390059923\n",
      "ggplot2: 3.696794369660173e+16\n",
      "git: -340.5656452147\n",
      "github: -15831.6809628101\n",
      "gitlab: 26808.9615569305\n",
      "go: -3426.3355218312\n",
      "golang: 13185.0807412809\n",
      "graphql: 63454409829189.445\n",
      "groovy: -180159719878536.88\n",
      "hadoop: 18866.0\n",
      "html: -8550.0\n",
      "java: 22480.0\n",
      "javascript: 8918.0\n",
      "jira: 5716.0\n",
      "jquery: -29941.0\n",
      "js: 49661.21875\n",
      "julia: -18891.0\n",
      "jupyter: -6596.0\n",
      "keras: 53376.0\n",
      "linux: -12840.0\n",
      "linux/unix: -3.696794369662956e+16\n",
      "looker: 5080.0\n",
      "matlab: -2806.0\n",
      "matplotlib: -22234.0\n",
      "microstrategy: -10272.0\n",
      "mongo: -42998.0\n",
      "mongodb: 47663.75\n",
      "mssql: 39018.0\n",
      "mysql: -19912.0\n",
      "no-sql: -25530.625\n",
      "node: -130378785916964.69\n",
      "node.js: 66029225407139.5\n",
      "nosql: 13983.0\n",
      "nuix: -54855316456295.92\n",
      "numpy: 15266.0\n",
      "outlook: -8874.0\n",
      "pandas: -11310.0\n",
      "perl: 12848.25\n",
      "php: 25711.5\n",
      "pl/sql: 14988.0\n",
      "plotly: -3397689214318.918\n",
      "postgres: -23192.0\n",
      "postgresql: -5144.0\n",
      "power_bi: 3360.0\n",
      "powerpoint: 9504.0\n",
      "powerpoints: -3578.125\n",
      "powershell: 4400.0\n",
      "pyspark: 3928.0\n",
      "python: 1532.0\n",
      "pytorch: -52290.0\n",
      "qlik: 10544.0\n",
      "r: 4480.0\n",
      "redis: -16769.0\n",
      "redshift: 16344.0\n",
      "rshiny: 481742985.147255\n",
      "ruby: -5542.0\n",
      "rust: -32417258.03405762\n",
      "sap: 1868.0\n",
      "sas: 5024.0\n",
      "scala: -3936.0\n",
      "scikit-learn: -1974.0\n",
      "seaborn: 40872.0\n",
      "selenium: -48496.9375\n",
      "sharepoint: -1024.0\n",
      "shell: -23098.0\n",
      "snowflake: 15064.0\n",
      "solidity: 32.0\n",
      "spark: 20766.0\n",
      "splunk: 8502.0\n",
      "spreadsheet: -3300.0\n",
      "spss: -18294.0\n",
      "sql: 5312.0\n",
      "ssis: -2767.0\n",
      "ssrs: 8930.0\n",
      "swift: 8076.0\n",
      "t-sql: 9998.0\n",
      "tableau: 240.0\n",
      "tensorflow: -16016.0\n",
      "terminal: -31244.0\n",
      "tidyr: 0.0\n",
      "twilio: -25362.5625\n",
      "typescript: 0.0\n",
      "unix: 22583.0\n",
      "unix/linux: -109230.0\n",
      "vb.net: 0.0\n",
      "vba: -5611.0\n",
      "visio: 3756.0\n",
      "visual_basic: -7825.0\n",
      "vue: 0.0\n",
      "vue.js: 0.0\n",
      "word: -9096.0\n"
     ]
    }
   ],
   "source": [
    "# Getting coefficients\n",
    "\n",
    "for i, name in enumerate(train.columns):\n",
    "    print(name, end = \": \")\n",
    "    print(round(lin.coef_[i], 10))"
   ]
  },
  {
   "cell_type": "code",
   "execution_count": 36,
   "metadata": {},
   "outputs": [
    {
     "data": {
      "text/plain": [
       "0.11204955609991529"
      ]
     },
     "execution_count": 36,
     "metadata": {},
     "output_type": "execute_result"
    }
   ],
   "source": [
    "lin.score(train, encoded_df['salary_standardized'])"
   ]
  },
  {
   "cell_type": "code",
   "execution_count": 37,
   "metadata": {},
   "outputs": [
    {
     "data": {
      "text/plain": [
       "Text(0.5, 1.0, 'Linear Regression for Salary Standardized')"
      ]
     },
     "execution_count": 37,
     "metadata": {},
     "output_type": "execute_result"
    },
    {
     "data": {
      "image/png": "[encoded data removed]",
      "text/plain": [
       "<Figure size 640x480 with 1 Axes>"
      ]
     },
     "metadata": {},
     "output_type": "display_data"
    }
   ],
   "source": [
    "regr = LinearRegression()\n",
    "\n",
    "predicted = lin.predict(train)\n",
    "\n",
    "actual = encoded_df[\"salary_standardized\"]\n",
    "\n",
    "plot1 = sns.histplot(data = predicted, kde = True, bins = 10)\n",
    "plot1.set(xlim = (20_000, 250_000))\n",
    "plot1.set(ylim = (0, 2500))\n",
    "plot1.set_title('Linear Regression for Salary Standardized')"
   ]
  }
 ],
 "metadata": {
  "kernelspec": {
   "display_name": "Python 3.10.7 64-bit",
   "language": "python",
   "name": "python3"
  },
  "language_info": {
   "codemirror_mode": {
    "name": "ipython",
    "version": 3
   },
   "file_extension": ".py",
   "mimetype": "text/x-python",
   "name": "python",
   "nbconvert_exporter": "python",
   "pygments_lexer": "ipython3",
   "version": "3.10.7"
  },
  "orig_nbformat": 4,
  "vscode": {
   "interpreter": {
    "hash": "aee8b7b246df8f9039afb4144a1f6fd8d2ca17a180786b69acc140d282b71a49"
   }
  }
 },
 "nbformat": 4,
 "nbformat_minor": 2
}
