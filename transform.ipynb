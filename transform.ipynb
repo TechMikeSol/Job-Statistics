{
 "cells": [
  {
   "cell_type": "markdown",
   "metadata": {},
   "source": [
    "Looking at this dataframe, I notice there are a lot of `sparse` (null-filled) rows. In addition the `description_tokens` it's unhelpful in displaying what skills are required for a job. \n",
    "\n",
    "I'll clean up the dataset by doing the following below."
   ]
  },
  {
   "cell_type": "markdown",
   "metadata": {},
   "source": [
    "Read csv, assign a variable to it"
   ]
  },
  {
   "cell_type": "code",
   "execution_count": 87,
   "metadata": {},
   "outputs": [
    {
     "data": {
      "text/html": [
       "<div>\n",
       "<style scoped>\n",
       "    .dataframe tbody tr th:only-of-type {\n",
       "        vertical-align: middle;\n",
       "    }\n",
       "\n",
       "    .dataframe tbody tr th {\n",
       "        vertical-align: top;\n",
       "    }\n",
       "\n",
       "    .dataframe thead th {\n",
       "        text-align: right;\n",
       "    }\n",
       "</style>\n",
       "<table border=\"1\" class=\"dataframe\">\n",
       "  <thead>\n",
       "    <tr style=\"text-align: right;\">\n",
       "      <th></th>\n",
       "      <th>id</th>\n",
       "      <th>salary_pay</th>\n",
       "      <th>salary_rate</th>\n",
       "      <th>salary_avg</th>\n",
       "      <th>salary_min</th>\n",
       "      <th>salary_max</th>\n",
       "      <th>salary_hourly</th>\n",
       "      <th>salary_yearly</th>\n",
       "      <th>salary_standardized</th>\n",
       "      <th>title</th>\n",
       "      <th>company_name</th>\n",
       "      <th>location</th>\n",
       "      <th>via</th>\n",
       "      <th>extensions</th>\n",
       "      <th>posted_at</th>\n",
       "      <th>schedule_type</th>\n",
       "      <th>work_from_home</th>\n",
       "      <th>date_time</th>\n",
       "      <th>description_tokens</th>\n",
       "    </tr>\n",
       "  </thead>\n",
       "  <tbody>\n",
       "    <tr>\n",
       "      <th>0</th>\n",
       "      <td>0</td>\n",
       "      <td>NaN</td>\n",
       "      <td>NaN</td>\n",
       "      <td>NaN</td>\n",
       "      <td>NaN</td>\n",
       "      <td>NaN</td>\n",
       "      <td>NaN</td>\n",
       "      <td>NaN</td>\n",
       "      <td>NaN</td>\n",
       "      <td>Data Analyst Technical - Consultant</td>\n",
       "      <td>Intermountain Healthcare</td>\n",
       "      <td>Oklahoma City, OK</td>\n",
       "      <td>via Monster</td>\n",
       "      <td>['19 hours ago', 'Full-time', 'Health insurance']</td>\n",
       "      <td>19 hours ago</td>\n",
       "      <td>Full-time</td>\n",
       "      <td>NaN</td>\n",
       "      <td>00:10.1</td>\n",
       "      <td>['vba', 'spreadsheet', 'javascript', 'word', '...</td>\n",
       "    </tr>\n",
       "    <tr>\n",
       "      <th>1</th>\n",
       "      <td>1</td>\n",
       "      <td>NaN</td>\n",
       "      <td>NaN</td>\n",
       "      <td>NaN</td>\n",
       "      <td>NaN</td>\n",
       "      <td>NaN</td>\n",
       "      <td>NaN</td>\n",
       "      <td>NaN</td>\n",
       "      <td>NaN</td>\n",
       "      <td>Sr Analyst, Data Engineer</td>\n",
       "      <td>Estee Lauder Companies</td>\n",
       "      <td>Oklahoma</td>\n",
       "      <td>via ZipRecruiter</td>\n",
       "      <td>['12 hours ago', 'Full-time']</td>\n",
       "      <td>12 hours ago</td>\n",
       "      <td>Full-time</td>\n",
       "      <td>NaN</td>\n",
       "      <td>00:10.1</td>\n",
       "      <td>[]</td>\n",
       "    </tr>\n",
       "    <tr>\n",
       "      <th>2</th>\n",
       "      <td>2</td>\n",
       "      <td>21 to 23</td>\n",
       "      <td>an hour</td>\n",
       "      <td>22.0</td>\n",
       "      <td>21.0</td>\n",
       "      <td>23.0</td>\n",
       "      <td>22.0</td>\n",
       "      <td>NaN</td>\n",
       "      <td>45760.0</td>\n",
       "      <td>Legal Data Analyst</td>\n",
       "      <td>DISYS</td>\n",
       "      <td>United States</td>\n",
       "      <td>via Indeed</td>\n",
       "      <td>['4 hours ago', '21 to 23 an hour', 'Contractor']</td>\n",
       "      <td>4 hours ago</td>\n",
       "      <td>Contractor</td>\n",
       "      <td>NaN</td>\n",
       "      <td>00:10.1</td>\n",
       "      <td>[]</td>\n",
       "    </tr>\n",
       "    <tr>\n",
       "      <th>3</th>\n",
       "      <td>3</td>\n",
       "      <td>NaN</td>\n",
       "      <td>NaN</td>\n",
       "      <td>NaN</td>\n",
       "      <td>NaN</td>\n",
       "      <td>NaN</td>\n",
       "      <td>NaN</td>\n",
       "      <td>NaN</td>\n",
       "      <td>NaN</td>\n",
       "      <td>Data analyst</td>\n",
       "      <td>Modis</td>\n",
       "      <td>United States</td>\n",
       "      <td>via BeBee</td>\n",
       "      <td>['13 hours ago', 'No degree mentioned']</td>\n",
       "      <td>13 hours ago</td>\n",
       "      <td>NaN</td>\n",
       "      <td>NaN</td>\n",
       "      <td>00:10.1</td>\n",
       "      <td>[]</td>\n",
       "    </tr>\n",
       "    <tr>\n",
       "      <th>4</th>\n",
       "      <td>4</td>\n",
       "      <td>NaN</td>\n",
       "      <td>NaN</td>\n",
       "      <td>NaN</td>\n",
       "      <td>NaN</td>\n",
       "      <td>NaN</td>\n",
       "      <td>NaN</td>\n",
       "      <td>NaN</td>\n",
       "      <td>NaN</td>\n",
       "      <td>Data Analyst (Risk Adjustment Consulting Resea...</td>\n",
       "      <td>Cambia Health Solutions</td>\n",
       "      <td>United States</td>\n",
       "      <td>via LinkedIn</td>\n",
       "      <td>['23 hours ago', 'Full-time', 'Health insuranc...</td>\n",
       "      <td>23 hours ago</td>\n",
       "      <td>Full-time</td>\n",
       "      <td>NaN</td>\n",
       "      <td>00:10.1</td>\n",
       "      <td>['sas', 'matlab', 'sql', 'spss', 'r']</td>\n",
       "    </tr>\n",
       "  </tbody>\n",
       "</table>\n",
       "</div>"
      ],
      "text/plain": [
       "  id salary_pay salary_rate salary_avg salary_min salary_max salary_hourly  \\\n",
       "0  0        NaN         NaN        NaN        NaN        NaN           NaN   \n",
       "1  1        NaN         NaN        NaN        NaN        NaN           NaN   \n",
       "2  2   21 to 23     an hour       22.0       21.0       23.0          22.0   \n",
       "3  3        NaN         NaN        NaN        NaN        NaN           NaN   \n",
       "4  4        NaN         NaN        NaN        NaN        NaN           NaN   \n",
       "\n",
       "  salary_yearly salary_standardized  \\\n",
       "0           NaN                 NaN   \n",
       "1           NaN                 NaN   \n",
       "2           NaN             45760.0   \n",
       "3           NaN                 NaN   \n",
       "4           NaN                 NaN   \n",
       "\n",
       "                                               title  \\\n",
       "0                Data Analyst Technical - Consultant   \n",
       "1                          Sr Analyst, Data Engineer   \n",
       "2                                 Legal Data Analyst   \n",
       "3                                       Data analyst   \n",
       "4  Data Analyst (Risk Adjustment Consulting Resea...   \n",
       "\n",
       "               company_name           location               via  \\\n",
       "0  Intermountain Healthcare  Oklahoma City, OK       via Monster   \n",
       "1    Estee Lauder Companies           Oklahoma  via ZipRecruiter   \n",
       "2                     DISYS      United States        via Indeed   \n",
       "3                     Modis      United States         via BeBee   \n",
       "4   Cambia Health Solutions      United States      via LinkedIn   \n",
       "\n",
       "                                          extensions     posted_at  \\\n",
       "0  ['19 hours ago', 'Full-time', 'Health insurance']  19 hours ago   \n",
       "1                      ['12 hours ago', 'Full-time']  12 hours ago   \n",
       "2  ['4 hours ago', '21 to 23 an hour', 'Contractor']   4 hours ago   \n",
       "3            ['13 hours ago', 'No degree mentioned']  13 hours ago   \n",
       "4  ['23 hours ago', 'Full-time', 'Health insuranc...  23 hours ago   \n",
       "\n",
       "  schedule_type work_from_home date_time  \\\n",
       "0     Full-time            NaN   00:10.1   \n",
       "1     Full-time            NaN   00:10.1   \n",
       "2    Contractor            NaN   00:10.1   \n",
       "3           NaN            NaN   00:10.1   \n",
       "4     Full-time            NaN   00:10.1   \n",
       "\n",
       "                                  description_tokens  \n",
       "0  ['vba', 'spreadsheet', 'javascript', 'word', '...  \n",
       "1                                                 []  \n",
       "2                                                 []  \n",
       "3                                                 []  \n",
       "4              ['sas', 'matlab', 'sql', 'spss', 'r']  "
      ]
     },
     "execution_count": 87,
     "metadata": {},
     "output_type": "execute_result"
    }
   ],
   "source": [
    "import pandas as pd\n",
    "import csv\n",
    "\n",
    "# Print first 5 rows\n",
    "job_df = pd.read_csv(\"data/joined_data.csv\")\n",
    "job_df.head()\n"
   ]
  },
  {
   "cell_type": "markdown",
   "metadata": {},
   "source": [
    "Explore how many missing values are in the dataset"
   ]
  },
  {
   "cell_type": "code",
   "execution_count": 88,
   "metadata": {},
   "outputs": [
    {
     "data": {
      "text/plain": [
       "6004"
      ]
     },
     "execution_count": 88,
     "metadata": {},
     "output_type": "execute_result"
    }
   ],
   "source": [
    "# First check how many nulls there are\n",
    "\n",
    "job_df[\"work_from_home\"].isna().sum()"
   ]
  },
  {
   "cell_type": "code",
   "execution_count": 89,
   "metadata": {},
   "outputs": [
    {
     "data": {
      "text/plain": [
       "5"
      ]
     },
     "execution_count": 89,
     "metadata": {},
     "output_type": "execute_result"
    }
   ],
   "source": [
    "# Column has 5 floats inside, must drop them\n",
    "\n",
    "job_df[\"description_tokens\"].isna().sum()"
   ]
  },
  {
   "cell_type": "code",
   "execution_count": 90,
   "metadata": {},
   "outputs": [
    {
     "data": {
      "text/plain": [
       "0"
      ]
     },
     "execution_count": 90,
     "metadata": {},
     "output_type": "execute_result"
    }
   ],
   "source": [
    "# Dropped the 5 floats\n",
    "\n",
    "job_df.dropna(subset = \"description_tokens\", inplace = True)\n",
    "\n",
    "job_df[\"description_tokens\"].isna().sum()"
   ]
  },
  {
   "cell_type": "code",
   "execution_count": 91,
   "metadata": {},
   "outputs": [],
   "source": [
    "job_df[\"work_from_home\"] = job_df[\"work_from_home\"].fillna(value = False)"
   ]
  },
  {
   "cell_type": "markdown",
   "metadata": {},
   "source": [
    "Transform the description_tokens column into a column of lists"
   ]
  },
  {
   "cell_type": "code",
   "execution_count": 92,
   "metadata": {},
   "outputs": [],
   "source": [
    "from sklearn.preprocessing import MultiLabelBinarizer\n",
    "from ast import literal_eval\n",
    "\n",
    "mlb = MultiLabelBinarizer()\n",
    "\n",
    "# Convert description_tokens into col of lists\n",
    "\n",
    "job_df[\"description_tokens\"] = job_df[\"description_tokens\"].apply(literal_eval)\n"
   ]
  },
  {
   "cell_type": "markdown",
   "metadata": {},
   "source": [
    "Join the results of the MultiLabelBinarizer back to the dataframe"
   ]
  },
  {
   "cell_type": "code",
   "execution_count": 93,
   "metadata": {},
   "outputs": [
    {
     "name": "stdout",
     "output_type": "stream",
     "text": [
      "['airflow' 'alteryx' 'apl' 'asp.net' 'assembly' 'atlassian' 'aurora' 'aws'\n",
      " 'azure' 'bash' 'bigquery' 'bitbucket' 'c' 'c++' 'c/c++' 'cobol' 'cognos'\n",
      " 'crystal' 'css' 'dart' 'dax' 'docker' 'dplyr' 'excel' 'fortran' 'gcp'\n",
      " 'gdpr' 'ggplot2' 'git' 'github' 'gitlab' 'go' 'golang' 'graphql' 'groovy'\n",
      " 'hadoop' 'html' 'java' 'javascript' 'jira' 'jquery' 'js' 'julia'\n",
      " 'jupyter' 'keras' 'linux' 'linux/unix' 'looker' 'matlab' 'matplotlib'\n",
      " 'microstrategy' 'mongo' 'mongodb' 'mssql' 'mysql' 'no-sql' 'node'\n",
      " 'node.js' 'nosql' 'nuix' 'numpy' 'outlook' 'pandas' 'perl' 'php' 'pl/sql'\n",
      " 'plotly' 'postgres' 'postgresql' 'power_bi' 'powerpoint' 'powerpoints'\n",
      " 'powershell' 'pyspark' 'python' 'pytorch' 'qlik' 'r' 'redis' 'redshift'\n",
      " 'rshiny' 'ruby' 'rust' 'sap' 'sas' 'scala' 'scikit-learn' 'seaborn'\n",
      " 'selenium' 'sharepoint' 'shell' 'snowflake' 'solidity' 'spark' 'splunk'\n",
      " 'spreadsheet' 'spss' 'sql' 'ssis' 'ssrs' 'swift' 't-sql' 'tableau'\n",
      " 'tensorflow' 'terminal' 'tidyr' 'twilio' 'typescript' 'unix' 'unix/linux'\n",
      " 'vb.net' 'vba' 'visio' 'visual_basic' 'vue' 'vue.js' 'word']\n"
     ]
    }
   ],
   "source": [
    "# Encode each skill as a unique column\n",
    "\n",
    "binary_columns = mlb.fit_transform(job_df[\"description_tokens\"].tolist())\n",
    "print(mlb.classes_)\n",
    "\n",
    "# Create new df with newly engineered features \n",
    "# Save to data folder for future use\n",
    "\n",
    "encoded_df = job_df.join(pd.DataFrame(binary_columns, columns = mlb.classes_, index = job_df.index))\n",
    "encoded_df.to_csv(\"data/joined_data.csv\", index = False)\n"
   ]
  },
  {
   "cell_type": "markdown",
   "metadata": {},
   "source": [
    "Drop all null values in encoded_df column 'salary_standardized'\n"
   ]
  },
  {
   "cell_type": "code",
   "execution_count": 94,
   "metadata": {},
   "outputs": [
    {
     "data": {
      "text/plain": [
       "8976"
      ]
     },
     "execution_count": 94,
     "metadata": {},
     "output_type": "execute_result"
    }
   ],
   "source": [
    "# Verify the nulls\n",
    "\n",
    "encoded_df.isna().sum()['salary_standardized']\n"
   ]
  },
  {
   "cell_type": "code",
   "execution_count": 95,
   "metadata": {},
   "outputs": [],
   "source": [
    "# Drop the nulls\n",
    "\n",
    "encoded_df.dropna(subset = 'salary_standardized', inplace = True)\n"
   ]
  },
  {
   "cell_type": "code",
   "execution_count": 96,
   "metadata": {},
   "outputs": [],
   "source": [
    "encoded_df.isna().sum()['salary_standardized']\n",
    "\n",
    "salary_standard_clean = encoded_df"
   ]
  },
  {
   "cell_type": "code",
   "execution_count": 97,
   "metadata": {},
   "outputs": [],
   "source": [
    "# Save new df into data folder\n",
    "\n",
    "salary_standard_clean.to_csv(\"data/encoded_df.csv\", index = False)\n"
   ]
  }
 ],
 "metadata": {
  "kernelspec": {
   "display_name": "Python 3.10.7 64-bit",
   "language": "python",
   "name": "python3"
  },
  "language_info": {
   "codemirror_mode": {
    "name": "ipython",
    "version": 3
   },
   "file_extension": ".py",
   "mimetype": "text/x-python",
   "name": "python",
   "nbconvert_exporter": "python",
   "pygments_lexer": "ipython3",
   "version": "3.10.7"
  },
  "orig_nbformat": 4,
  "vscode": {
   "interpreter": {
    "hash": "aee8b7b246df8f9039afb4144a1f6fd8d2ca17a180786b69acc140d282b71a49"
   }
  }
 },
 "nbformat": 4,
 "nbformat_minor": 2
}
